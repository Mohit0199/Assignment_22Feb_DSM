{
 "cells": [
  {
   "cell_type": "code",
   "execution_count": 49,
   "id": "8b11e554-d1c7-416d-a65c-a0f0a74336c7",
   "metadata": {},
   "outputs": [],
   "source": [
    "import re\n",
    "from bs4 import BeautifulSoup as bs\n",
    "from urllib.request import urlopen\n",
    "import json"
   ]
  },
  {
   "cell_type": "code",
   "execution_count": 50,
   "id": "a7772a15-3c71-4827-8821-788be8ba5b51",
   "metadata": {},
   "outputs": [],
   "source": [
    "# Go to this given URL and solve the following questions\n",
    "\n",
    "url = \"https://www.youtube.com/@PW-Foundation/videos\"\n"
   ]
  },
  {
   "cell_type": "code",
   "execution_count": 53,
   "id": "90eafef8-f216-4f66-ba4a-e24b69e4ee12",
   "metadata": {},
   "outputs": [],
   "source": [
    "headers = {\n",
    "    'User-Agent': 'Mozilla/5.0 (Windows NT 10.0; Win64; x64) AppleWebKit/537.36 (KHTML, like Gecko) Chrome/91.0.4472.124 Safari/537.36'\n",
    "}\n",
    "response = requests.get(url, headers=headers)\n",
    "soup = bs(response.content, \"html.parser\")\n",
    "pattern = r'<script nonce=\"[-\\w]+\">\\n\\s+var ytInitialData = (.+)'\n",
    "script_data = re.search(pattern=pattern, string=soup.prettify())[1].replace(';', '')\n",
    "json_data = json.loads(script_data)\n",
    "videos_container = json_data['contents']['twoColumnBrowseResultsRenderer']['tabs'][1]['tabRenderer']['content']['richGridRenderer']['contents']"
   ]
  },
  {
   "cell_type": "code",
   "execution_count": 61,
   "id": "ae551014-fa8c-4572-8560-4656869fbb12",
   "metadata": {},
   "outputs": [
    {
     "name": "stdout",
     "output_type": "stream",
     "text": [
      "https://www.youtube.com/watch?v=kGGlONm9GW0\n",
      "https://www.youtube.com/watch?v=aBLasjkB4UU\n",
      "https://www.youtube.com/watch?v=fXDjD7Nd1OA\n",
      "https://www.youtube.com/watch?v=jyXIhE28Enc\n",
      "https://www.youtube.com/watch?v=tfEDlFVgOyk\n"
     ]
    }
   ],
   "source": [
    "# Q1. Write a python program to extract the video URL of the first five videos.\n",
    "\n",
    "\n",
    "video_urls = []\n",
    "for video in videos_container[:5]:\n",
    "    video_id = video['richItemRenderer']['content']['videoRenderer']['videoId']\n",
    "    video_url = f\"https://www.youtube.com/watch?v={video_id}\"\n",
    "    video_urls.append(video_url)\n",
    "    print(video_url)"
   ]
  },
  {
   "cell_type": "code",
   "execution_count": 64,
   "id": "99d79a03-6fb5-4a9c-984a-0452265ed74f",
   "metadata": {},
   "outputs": [
    {
     "name": "stdout",
     "output_type": "stream",
     "text": [
      "https://i.ytimg.com/vi/kGGlONm9GW0/hqdefault.jpg?sqp=-oaymwEbCKgBEF5IVfKriqkDDggBFQAAiEIYAXABwAEG&rs=AOn4CLAY_w4jpVhNqL6NSCm3PjOOUvIw6g\n",
      "https://i.ytimg.com/vi/aBLasjkB4UU/hqdefault.jpg?sqp=-oaymwEbCKgBEF5IVfKriqkDDggBFQAAiEIYAXABwAEG&rs=AOn4CLDTw0sNqpvHs7p1VhFDACsrdjST4A\n",
      "https://i.ytimg.com/vi/fXDjD7Nd1OA/hqdefault.jpg?sqp=-oaymwEbCKgBEF5IVfKriqkDDggBFQAAiEIYAXABwAEG&rs=AOn4CLCNDex5EFIs6Jy7u4wlGrMf2XU4uw\n",
      "https://i.ytimg.com/vi/jyXIhE28Enc/hqdefault.jpg?sqp=-oaymwEbCKgBEF5IVfKriqkDDggBFQAAiEIYAXABwAEG&rs=AOn4CLA1T9mFE4zk_8R4B0rs9aFz90sGBQ\n",
      "https://i.ytimg.com/vi/tfEDlFVgOyk/hqdefault.jpg?sqp=-oaymwEbCKgBEF5IVfKriqkDDggBFQAAiEIYAXABwAEG&rs=AOn4CLDG-Jdyr7wk7_UnMSjEJpzDl1yjcg\n"
     ]
    }
   ],
   "source": [
    "# Q2. Write a python program to extract the URL of the video thumbnails of the first five videos.\n",
    "\n",
    "\n",
    "thumbnails_list = []\n",
    "for video in videos_container[:5]:\n",
    "    thumbnails = video['richItemRenderer']['content']['videoRenderer']['thumbnail']['thumbnails'][0]['url']\n",
    "    thumbnails_list.append(thumbnails)\n",
    "    print(thumbnails)"
   ]
  },
  {
   "cell_type": "code",
   "execution_count": 66,
   "id": "2913a082-f0cb-48df-bc44-8950b126c8ab",
   "metadata": {},
   "outputs": [
    {
     "name": "stdout",
     "output_type": "stream",
     "text": [
      "Class 9th MATHS Most Important Chapters ✅ | Class 9th Maths के ये CHAPTERS हलके में मत लेना 😥\n",
      "Launching The Most Demanding Batch for Class 9th !! NEEV 2.0 - Score 95%+ in Class 9th🔥\n",
      "Launching India's Most DEMANDING Batch for Class 10th !! UDAAN 2.0 For Complete Course @2499/- 🔥\n",
      "Biggest Offer for Class 9th & 10th Students 🔥 #4SaalDumdaar\n",
      "1 Day To Go!🔥 Arjuna JEE/NEET 2.0 || Intezaar Hua Khatam ⚡️\n"
     ]
    }
   ],
   "source": [
    "# Q3. Write a python program to extract the title of the first five videos.\n",
    "\n",
    "\n",
    "titles_list = []\n",
    "for video in videos_container[:5]:\n",
    "    titles = video['richItemRenderer']['content']['videoRenderer']['title']['runs'][0]['text']\n",
    "    titles_list.append(titles)\n",
    "    print(titles)"
   ]
  },
  {
   "cell_type": "code",
   "execution_count": 67,
   "id": "71445d14-a922-4bc4-affb-ce7346974334",
   "metadata": {},
   "outputs": [
    {
     "name": "stdout",
     "output_type": "stream",
     "text": [
      "6,924 views\n",
      "13,412 views\n",
      "26,118 views\n",
      "31,638 views\n",
      "14,315 views\n"
     ]
    }
   ],
   "source": [
    "# Q4. Write a python program to extract the number of views of the first five videos.\n",
    "\n",
    "\n",
    "views_list = []\n",
    "for video in videos_container[:5]:\n",
    "    no_of_views = video['richItemRenderer']['content']['videoRenderer']['viewCountText']['simpleText']\n",
    "    views_list.append(no_of_views)\n",
    "    print(no_of_views)"
   ]
  },
  {
   "cell_type": "code",
   "execution_count": 68,
   "id": "246738de-f8da-4789-8bea-a999d20f6395",
   "metadata": {},
   "outputs": [
    {
     "name": "stdout",
     "output_type": "stream",
     "text": [
      "2 days ago\n",
      "8 days ago\n",
      "9 days ago\n",
      "10 days ago\n",
      "11 days ago\n"
     ]
    }
   ],
   "source": [
    "# Q5. Write a python program to extract the time of posting of video for the first five videos.\n",
    "\n",
    "\n",
    "posting_time_list = []\n",
    "for video in videos_container[:5]:\n",
    "    time_of_posting = video['richItemRenderer']['content']['videoRenderer']['publishedTimeText']['simpleText']\n",
    "    posting_time_list.append(time_of_posting)\n",
    "    print(time_of_posting)"
   ]
  },
  {
   "cell_type": "code",
   "execution_count": 70,
   "id": "5049cc01-f07e-4714-9355-611584f97bc0",
   "metadata": {},
   "outputs": [],
   "source": [
    "import csv\n",
    "\n",
    "rows = zip(video_urls, thumbnails_list, titles_list, views_list, posting_time_list)\n",
    "\n",
    "with open('output.csv', mode='w', newline='') as file:\n",
    "    writer = csv.writer(file)\n",
    "    writer.writerow(['Video_URLs', 'Thumbnails', 'Titles', 'Views', 'Posted_Time'])\n",
    "    writer.writerows(rows)"
   ]
  },
  {
   "cell_type": "code",
   "execution_count": null,
   "id": "4164ded0-a4a6-479b-a33b-66296ce44cb5",
   "metadata": {},
   "outputs": [],
   "source": []
  },
  {
   "cell_type": "code",
   "execution_count": null,
   "id": "b4a9fb0b-0674-4836-9fbd-86a4241163c2",
   "metadata": {},
   "outputs": [],
   "source": []
  }
 ],
 "metadata": {
  "kernelspec": {
   "display_name": "Python 3 (ipykernel)",
   "language": "python",
   "name": "python3"
  },
  "language_info": {
   "codemirror_mode": {
    "name": "ipython",
    "version": 3
   },
   "file_extension": ".py",
   "mimetype": "text/x-python",
   "name": "python",
   "nbconvert_exporter": "python",
   "pygments_lexer": "ipython3",
   "version": "3.10.8"
  }
 },
 "nbformat": 4,
 "nbformat_minor": 5
}
